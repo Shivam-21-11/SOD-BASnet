{
 "cells": [
  {
   "cell_type": "code",
   "execution_count": 1,
   "id": "0b1db647",
   "metadata": {},
   "outputs": [],
   "source": [
    "import tensorflow as tf \n",
    "import tensorflow.keras.layers as layers\n",
    "import tensorflow.keras.models as model"
   ]
  },
  {
   "cell_type": "markdown",
   "id": "af382105",
   "metadata": {},
   "source": [
    "# BASNET ATTEMPT 1\n"
   ]
  },
  {
   "cell_type": "markdown",
   "id": "079857d7",
   "metadata": {},
   "source": [
    "**Basic Architecture of BASNet consist of two Module, Prediction Module and Refined Module**"
   ]
  },
  {
   "cell_type": "markdown",
   "id": "6f03033d",
   "metadata": {},
   "source": [
    "- lets start with prediction Module\n",
    "- Construct helper function \n",
    "- The Prediction module is U-Net like structure (encoder-decoder)\n",
    "- For Encoder we are going to use residual blocks\n",
    "\n"
   ]
  },
  {
   "cell_type": "markdown",
   "id": "1a7cd0b4",
   "metadata": {},
   "source": [
    "# Helper Function"
   ]
  },
  {
   "cell_type": "code",
   "execution_count": 2,
   "id": "b186d065",
   "metadata": {},
   "outputs": [],
   "source": [
    "def Residual_block(x,filters,stride=1,downsample=None,no_relu=None):\n",
    "    '''\n",
    "    Creates residual block with two convo2D with 3*3 kernal size\n",
    "    '''\n",
    "    residual = x\n",
    "    # convblock1\n",
    "    l = layers.Conv2D(kernel_size=(3,3), filters=filters, strides=stride, padding=\"same\", use_bias=False)(x)\n",
    "    l = layers.BatchNormalization()(l)\n",
    "    l = layers.ReLU()(l)\n",
    "    # convblock1\n",
    "    l = layers.Conv2D(kernel_size=(3,3), filters=filters, strides=1, padding=\"same\", use_bias=False)(l)\n",
    "    l = layers.BatchNormalization()(l)\n",
    "    \n",
    "    if downsample is not None:\n",
    "        residual = downsample\n",
    "    \n",
    "    l = layers.add()([l,residualdual])\n",
    "    if not no_relu:\n",
    "        l = layers.Activation('relu')(l)\n",
    "    return l\n",
    "    \n",
    "    "
   ]
  },
  {
   "cell_type": "code",
   "execution_count": 5,
   "id": "c687e9f8",
   "metadata": {},
   "outputs": [],
   "source": [
    "def make_layer(x,block,in_filter,filters, blocks_num, stride=1, expansion=1):\n",
    "    \"\"\"\n",
    "    apply multiple residual blocks.\n",
    "    x_in: input tensor\n",
    "    block: block to apply\n",
    "    in_filter: input tensor channels\n",
    "    filters: output tensor channels\n",
    "    blocks_num: number of time block to be applied\n",
    "    stride: stride\n",
    "    expansion: expand last dimension\n",
    "    \"\"\"\n",
    "    downsample = None\n",
    "    if stride!=1 or in_filter != filters*expansion:\n",
    "        downsample = layers.Conv2D(((filters*expansion)),kernel_size=(1,1),strides=stride,use_bias=False)(x)\n",
    "        downsample = layers.BatchNormalization()(downsample)\n",
    "        downsample = layers.Activation(\"relu\")(downsample)\n",
    "    l = block(x,filters,stride,downsample)\n",
    "    for i in range(1,blocks_num):\n",
    "        if i == (blocks_num - 1):\n",
    "            l = block(x,filters,stride=1,no_relu=True)\n",
    "        else:\n",
    "            l = block(x,filters,stride=1,no_relu=False)\n",
    "    return l"
   ]
  },
  {
   "cell_type": "code",
   "execution_count": 8,
   "id": "aea27f50",
   "metadata": {},
   "outputs": [],
   "source": [
    "def conv_bn_relu(x, filters, dilation=1, stride=1, padding=\"same\"):\n",
    "    \"\"\"\n",
    "    apply Convolution+BN+Relu layer\n",
    "    \"\"\"\n",
    "    l = layers.Conv2D(filters=filters, kernel_size=(3, 3), strides=stride, padding=padding, dilation_rate=dilation)(x)\n",
    "    l = layers.BatchNormalization()(l)\n",
    "    l = layers.Activation(\"relu\")(l)\n",
    "    return l"
   ]
  },
  {
   "cell_type": "code",
   "execution_count": 9,
   "id": "3f5c56e7",
   "metadata": {},
   "outputs": [],
   "source": [
    "def conv_block(x, filters, dilation=1):\n",
    "    \"\"\"\n",
    "    Creates a convolution block with three consecutive 3*3 conv's\n",
    "    \"\"\"\n",
    "    l = conv_bn_relu(x=x_in, filters=filters, dilation=dilation)\n",
    "    l = conv_bn_relu(x=x, filters=filters, dilation=dilation)\n",
    "    l = conv_bn_relu(x=x, filters=filters, dilation=dilation)\n",
    "\n",
    "    return l"
   ]
  },
  {
   "cell_type": "code",
   "execution_count": 10,
   "id": "9651b1a6",
   "metadata": {},
   "outputs": [],
   "source": [
    "def resize_bilinear(x, factor=2):\n",
    "    \"\"\"\n",
    "    Resize input tensor using bilinear upsampling strategy\n",
    "    factor: resize input with given factor\n",
    "    \"\"\"\n",
    "    h = tf.keras.backend.int_shape(x)[1] * factor\n",
    "    w = tf.keras.backend.int_shape(x)[2] * factor\n",
    "    return tf.image.resize(x, [h, w])"
   ]
  },
  {
   "cell_type": "code",
   "execution_count": 12,
   "id": "b85b2a85",
   "metadata": {},
   "outputs": [],
   "source": [
    "def segmentation_head(x, filters, final_size):\n",
    "    \"\"\"\n",
    "    Segmentation head uses convolution to map each stage output to final \n",
    "    number of classes, if final size is not null then also resizes to given size.\n",
    "    x_in: input tensor\n",
    "    out_planes: # output classes\n",
    "    final_size: size to which each stage output will be resized \n",
    "    \"\"\"\n",
    "    l = layers.Conv2D(filters, kernel_size=(3, 3), strides=1, padding=\"same\",)(x)\n",
    "\n",
    "    if final_size is not None:\n",
    "        l = tf.image.resize(l, size=final_size)\n",
    "\n",
    "    return l"
   ]
  },
  {
   "cell_type": "code",
   "execution_count": null,
   "id": "fd8b579e",
   "metadata": {},
   "outputs": [],
   "source": []
  }
 ],
 "metadata": {
  "kernelspec": {
   "display_name": "Python 3.10(tensorflow)",
   "language": "python",
   "name": "tensorflow"
  },
  "language_info": {
   "codemirror_mode": {
    "name": "ipython",
    "version": 3
   },
   "file_extension": ".py",
   "mimetype": "text/x-python",
   "name": "python",
   "nbconvert_exporter": "python",
   "pygments_lexer": "ipython3",
   "version": "3.9.10"
  }
 },
 "nbformat": 4,
 "nbformat_minor": 5
}
